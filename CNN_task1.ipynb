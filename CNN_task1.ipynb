{
  "nbformat": 4,
  "nbformat_minor": 0,
  "metadata": {
    "colab": {
      "provenance": [],
      "mount_file_id": "1fZnCqqUldXxho-FPmqt9ky8VvHl-J9GT",
      "authorship_tag": "ABX9TyNCljlURvbhxcX1/gXIz4fT",
      "include_colab_link": true
    },
    "kernelspec": {
      "name": "python3",
      "display_name": "Python 3"
    },
    "language_info": {
      "name": "python"
    },
    "accelerator": "GPU",
    "gpuClass": "standard"
  },
  "cells": [
    {
      "cell_type": "markdown",
      "metadata": {
        "id": "view-in-github",
        "colab_type": "text"
      },
      "source": [
        "<a href=\"https://colab.research.google.com/github/Ak3199/LineCloser_FullyCNN/blob/main/CNN_task1.ipynb\" target=\"_parent\"><img src=\"https://colab.research.google.com/assets/colab-badge.svg\" alt=\"Open In Colab\"/></a>"
      ]
    },
    {
      "cell_type": "code",
      "source": [
        "from google.colab import drive\n",
        "drive.mount('/content/gdrive')"
      ],
      "metadata": {
        "colab": {
          "base_uri": "https://localhost:8080/"
        },
        "id": "XuNTJB-ZHfRb",
        "outputId": "f32dfa62-253b-4e27-8f90-646731970831"
      },
      "execution_count": null,
      "outputs": [
        {
          "output_type": "stream",
          "name": "stdout",
          "text": [
            "Mounted at /content/gdrive\n"
          ]
        }
      ]
    },
    {
      "cell_type": "code",
      "execution_count": null,
      "metadata": {
        "id": "Hil-Xtt45ZBI"
      },
      "outputs": [],
      "source": [
        "import cv2\n",
        "from torch.utils.data import Dataset, DataLoader\n",
        "from random import seed\n",
        "import torch.nn as nn\n",
        "import torch.optim as optim\n",
        "import torch\n",
        "import matplotlib.pyplot as plt\n",
        "from torchvision.utils import save_image\n",
        "import os\n",
        "import numpy as np\n",
        "import random\n",
        "import torch.nn.functional as F\n",
        "from PIL import Image\n",
        "from tqdm.auto import tqdm\n",
        "from time import sleep"
      ]
    },
    {
      "cell_type": "markdown",
      "source": [
        "##this is used to create the random lines on the image dataset"
      ],
      "metadata": {
        "id": "HhWlXA8582jM"
      }
    },
    {
      "cell_type": "code",
      "source": [
        "class CustomDataset(torch.utils.data.Dataset):\n",
        "  def __init__(self, root_dir,mask_gen, transform=None):\n",
        "    self.root_dir = root_dir\n",
        "    self.transform = transform\n",
        "    self.mask_gen=mask_gen\n",
        "    self.images = []\n",
        "\n",
        "    for filename in os.listdir(root_dir):\n",
        "      if filename.endswith(\".png\"):\n",
        "        self.images.append(os.path.join(root_dir, filename))\n",
        "\n",
        "  def __len__(self):\n",
        "    return len(self.images)\n",
        "  \n",
        "  def __getitem__(self, idx):\n",
        "    image_path = self.images[idx]\n",
        "    image = cv2.imread(image_path)\n",
        "    image = cv2.resize(image, (256,256))/255.0\n",
        "    masked_image,mask=self.mask_gen._generate_mask(image.copy())\n",
        "    #masked_image=255-(255-image)*mask\n",
        "    if self.transform:\n",
        "      masked_image=torch.tensor(masked_image, dtype=torch.float32).permute(2,1,0)    \n",
        "      image = torch.tensor(image,dtype=torch.float32).permute(2,1,0)\n",
        "\n",
        "    return masked_image,image\n"
      ],
      "metadata": {
        "id": "5Eg9NqmdrQFu"
      },
      "execution_count": null,
      "outputs": []
    },
    {
      "cell_type": "code",
      "source": [
        "class MaskGenerator(object):\n",
        "    def __init__(self, height, width, channels=3,\n",
        "                 rand_seed=None, filepath=None):\n",
        "        \"\"\"Convenience functions for generating masks to be used for inpainting training\n",
        "        Arguments:\n",
        "            height {int} -- Mask height\n",
        "            width {width} -- Mask width\n",
        "        Keyword Arguments:\n",
        "            channels {int} -- Channels to output (default: {3})\n",
        "            rand_seed {[type]} -- Random seed (default: {None})\n",
        "            filepath {[type]} -- Load masks from filepath. If None, generate masks with OpenCV (default: {None})\n",
        "        \"\"\"\n",
        "\n",
        "        self.height = height\n",
        "        self.width = width\n",
        "        self.channels = channels\n",
        "        self.filepath = filepath\n",
        "\n",
        "        # If filepath supplied, load the list of masks within the directory\n",
        "        self.mask_files = []\n",
        "        if self.filepath:\n",
        "            filenames = [f for f in os.listdir(self.filepath)]\n",
        "            self.mask_files = [f for f in filenames\n",
        "                               if any(filetype in f.lower()\n",
        "                                      for filetype\n",
        "                                      in ['.jpeg', '.png', '.jpg'])]\n",
        "            print(\">> Found {} masks in {}\".format(len(self.mask_files),\n",
        "                                                   self.filepath))\n",
        "\n",
        "        # Seed for reproducibility\n",
        "        if rand_seed:\n",
        "            seed(rand_seed)\n",
        "\n",
        "    def _generate_mask(self,img):\n",
        "        \"\"\"Generates a random irregular mask with lines, circles and elipses\"\"\"\n",
        "\n",
        "        mask = np.zeros((self.height, self.width, self.channels), np.uint8)\n",
        "\n",
        "        # Set size scale\n",
        "        size = int((self.width + self.height) * 0.03)\n",
        "        if self.width < 64 or self.height < 64:\n",
        "            raise Exception(\"Width and Height of mask must be at least 64!\")\n",
        "\n",
        "        # Draw random lines\n",
        "        for _ in range(random.randint(1, 10)):\n",
        "            x1, x2 = random.randint(1, self.width), random.randint(1, self.width)\n",
        "            y1, y2 = random.randint(1, self.height), random.randint(1, self.height)\n",
        "            thickness = random.randint(3, size)\n",
        "            cv2.line(img, (x1, y1), (x2, y2), (1, 1, 1), thickness)\n",
        "            cv2.line(mask, (x1, y1), (x2, y2), (1, 1, 1), thickness)\n",
        "\n",
        "        # Draw random circles\n",
        "        for _ in range(random.randint(1, 10)):\n",
        "            x1, y1 = random.randint(1, self.width), random.randint(1, self.height)\n",
        "            radius = random.randint(3, size)\n",
        "            cv2.circle(img, (x1, y1), radius, (1, 1, 1), -1)\n",
        "            cv2.circle(mask, (x1, y1), radius, (1, 1, 1), -1)\n",
        "\n",
        "        # Draw random ellipses\n",
        "        for _ in range(random.randint(1, 20)):\n",
        "            x1, y1 = random.randint(1, self.width), random.randint(1, self.height)\n",
        "            s1, s2 = random.randint(1, self.width), random.randint(1, self.height)\n",
        "            a1, a2, a3 = random.randint(3, 180), random.randint(3, 180), random.randint(3, 180)\n",
        "            thickness = random.randint(3, size)\n",
        "            cv2.ellipse(img, (x1, y1), (s1, s2), a1, a2, a3,\n",
        "                        (1, 1, 1), thickness)\n",
        "            cv2.ellipse(mask, (x1, y1), (s1, s2), a1, a2, a3,\n",
        "                        (1, 1, 1), thickness)\n",
        "\n",
        "        return img,mask\n",
        "\n",
        "    def _load_mask(self, rotation=True, dilation=True, cropping=True):\n",
        "        \"\"\"Loads a mask from disk, and optionally augments it\"\"\"\n",
        "\n",
        "        # Read image\n",
        "        mask = cv2.imread(os.path.join(self.filepath, np.random.choice(\n",
        "                                                        self.mask_files,\n",
        "                                                        1,\n",
        "                                                        replace=False\n",
        "                                                        )[0]))\n",
        "\n",
        "        # Random rotation\n",
        "        if rotation:\n",
        "            rand = np.random.random.randint(-180, 180)\n",
        "            M = cv2.getRotationMatrix2D((mask.shape[1]/2, mask.shape[0]/2),\n",
        "                                        rand, 1.5)\n",
        "            mask = cv2.warpAffine(mask, M, (mask.shape[1], mask.shape[0]))\n",
        "\n",
        "        # Random dilation\n",
        "        if dilation:\n",
        "            rand = np.random.random.randint(5, 47)\n",
        "            kernel = np.ones((rand, rand), np.uint8)\n",
        "            mask = cv2.erode(mask, kernel, iterations=1)\n",
        "\n",
        "        # Random cropping\n",
        "        if cropping:\n",
        "            x = np.random.random.randint(0, mask.shape[1] - self.width)\n",
        "            y = np.random.random.randint(0, mask.shape[0] - self.height)\n",
        "            mask = mask[y:y+self.height, x:x+self.width]\n",
        "\n",
        "        return (mask > 1).astype(np.uint8)\n",
        "\n",
        "    def sample(self, random_seed=None):\n",
        "        \"\"\"Retrieve a random mask\"\"\"\n",
        "        if random_seed:\n",
        "            seed(random_seed)\n",
        "        if self.filepath and len(self.mask_files) > 0:\n",
        "            return self._load_mask()\n",
        "        else:\n",
        "            return self._generate_mask(img)\n"
      ],
      "metadata": {
        "id": "Cvr4-sBg4aOj"
      },
      "execution_count": null,
      "outputs": []
    },
    {
      "cell_type": "code",
      "source": [
        "import torchvision.transforms as transforms\n",
        "\n",
        "transform = transforms.Compose([\n",
        "    transforms.Resize((352,352)),\n",
        "    transforms.ToTensor(),\n",
        "])\n",
        "\n",
        "#enter the root directory and the batch size\n",
        "trainset = CustomDataset(root_dir=\"/content/gdrive/MyDrive/CNN_task/ESB\", mask_gen=MaskGenerator(256,256),transform=transform)\n",
        "trainloader = DataLoader(trainset, batch_size=32, shuffle=True)"
      ],
      "metadata": {
        "id": "dXHH2xQhs5FX"
      },
      "execution_count": null,
      "outputs": []
    },
    {
      "cell_type": "code",
      "source": [
        "valset = CustomDataset(root_dir = \"/content/gdrive/MyDrive/CNN_task/MCB_hand\", mask_gen = MaskGenerator(256,256), transform=transform)\n",
        "valloader = DataLoader(valset, batch_size=32, shuffle = False)"
      ],
      "metadata": {
        "id": "jl3VulJDcafu"
      },
      "execution_count": null,
      "outputs": []
    },
    {
      "cell_type": "code",
      "source": [
        "x,y=next(iter(trainloader))\n",
        "x_val, y_val = next(iter(valloader))"
      ],
      "metadata": {
        "id": "Ie-UpqZI7L3j"
      },
      "execution_count": null,
      "outputs": []
    },
    {
      "cell_type": "code",
      "source": [
        "plt.imshow(x[0].permute(2,1,0).detach().numpy())"
      ],
      "metadata": {
        "colab": {
          "base_uri": "https://localhost:8080/",
          "height": 286
        },
        "id": "5nOFf_v7UmCu",
        "outputId": "8d6e3455-d1a3-457a-b903-19bbf9c04314"
      },
      "execution_count": null,
      "outputs": [
        {
          "output_type": "execute_result",
          "data": {
            "text/plain": [
              "<matplotlib.image.AxesImage at 0x7f1b1bd4dc40>"
            ]
          },
          "metadata": {},
          "execution_count": 8
        },
        {
          "output_type": "display_data",
          "data": {
            "text/plain": [
              "<Figure size 432x288 with 1 Axes>"
            ],
            "image/png": "[encoded data removed]"
          },
          "metadata": {
            "needs_background": "light"
          }
        }
      ]
    },
    {
      "cell_type": "code",
      "source": [
        "plt.imshow(y[0].permute(2,1,0).detach().numpy())"
      ],
      "metadata": {
        "colab": {
          "base_uri": "https://localhost:8080/",
          "height": 286
        },
        "id": "SAwKtkjLsNwX",
        "outputId": "0bbdc80b-2791-4711-9f5c-a2a23cf0318d"
      },
      "execution_count": null,
      "outputs": [
        {
          "output_type": "execute_result",
          "data": {
            "text/plain": [
              "<matplotlib.image.AxesImage at 0x7f1b19c6ca90>"
            ]
          },
          "metadata": {},
          "execution_count": 9
        },
        {
          "output_type": "display_data",
          "data": {
            "text/plain": [
              "<Figure size 432x288 with 1 Axes>"
            ],
            "image/png": "[encoded data removed]"
          },
          "metadata": {
            "needs_background": "light"
          }
        }
      ]
    },
    {
      "cell_type": "markdown",
      "source": [
        "##the model"
      ],
      "metadata": {
        "id": "cthwlc_Sj3gn"
      }
    },
    {
      "cell_type": "code",
      "source": [
        "plt.imshow(x_val[0].permute(2,1,0).detach().numpy())"
      ],
      "metadata": {
        "colab": {
          "base_uri": "https://localhost:8080/",
          "height": 286
        },
        "id": "lQvdWrJ_ctiP",
        "outputId": "ed8d5653-53f5-49e4-ed1b-7b74d0222535"
      },
      "execution_count": null,
      "outputs": [
        {
          "output_type": "execute_result",
          "data": {
            "text/plain": [
              "<matplotlib.image.AxesImage at 0x7f1b19b1f5b0>"
            ]
          },
          "metadata": {},
          "execution_count": 12
        },
        {
          "output_type": "display_data",
          "data": {
            "text/plain": [
              "<Figure size 432x288 with 1 Axes>"
            ],
            "image/png": "[encoded data removed]"
          },
          "metadata": {
            "needs_background": "light"
          }
        }
      ]
    },
    {
      "cell_type": "code",
      "source": [
        "plt.imshow(y_val[0].permute(2,1,0).detach().numpy())"
      ],
      "metadata": {
        "colab": {
          "base_uri": "https://localhost:8080/",
          "height": 286
        },
        "id": "ICwDf5q1cztg",
        "outputId": "c6cea991-b879-4e3e-8452-545baadf9f82"
      },
      "execution_count": null,
      "outputs": [
        {
          "output_type": "execute_result",
          "data": {
            "text/plain": [
              "<matplotlib.image.AxesImage at 0x7f1b19b00640>"
            ]
          },
          "metadata": {},
          "execution_count": 13
        },
        {
          "output_type": "display_data",
          "data": {
            "text/plain": [
              "<Figure size 432x288 with 1 Axes>"
            ],
            "image/png": "[encoded data removed]"
          },
          "metadata": {
            "needs_background": "light"
          }
        }
      ]
    },
    {
      "cell_type": "code",
      "source": [
        "class ConvolutionalNeuralNet(nn.Module):\n",
        "  def __init__(self):\n",
        "    super(ConvolutionalNeuralNet, self).__init__()\n",
        "    self.conv1 = nn.Conv2d(in_channels=3, out_channels=24, kernel_size=5, stride=2, padding=1)\n",
        "    self.bn1 = nn.BatchNorm2d(24)\n",
        "    self.relu1 = nn.ReLU()\n",
        "    \n",
        "    self.conv2 = nn.Conv2d(in_channels=24, out_channels=64, kernel_size=3, stride=2, padding=1)\n",
        "    self.bn2 = nn.BatchNorm2d(64)\n",
        "    self.relu2 = nn.ReLU()\n",
        "\n",
        "    self.conv3 = nn.Conv2d(in_channels=64, out_channels=128, kernel_size=3, stride=1, padding=1)\n",
        "    self.bn3 = nn.BatchNorm2d(128)\n",
        "    self.relu3 = nn.ReLU()\n",
        "\n",
        "    self.conv4 = nn.Conv2d(in_channels=128, out_channels=256, kernel_size=3, stride=2, padding=1)\n",
        "    self.bn4 = nn.BatchNorm2d(256)\n",
        "    self.relu4 = nn.ReLU()\n",
        "\n",
        "    self.conv5 = nn.Conv2d(in_channels=256, out_channels=512, kernel_size=3, stride=1, padding=1)\n",
        "    self.bn5 = nn.BatchNorm2d(512)\n",
        "    self.relu5 = nn.ReLU()\n",
        "\n",
        "    self.conv6 = nn.Conv2d(in_channels=512, out_channels=512, kernel_size=3, stride=2, padding=1)\n",
        "    self.bn6 = nn.BatchNorm2d(512)\n",
        "    self.relu6 = nn.ReLU()\n",
        "\n",
        "    self.conv7 = nn.Conv2d(in_channels=512, out_channels=256, kernel_size=3, stride=1, padding=1)\n",
        "    self.bn7 = nn.BatchNorm2d(256)\n",
        "    self.relu7 = nn.ReLU()\n",
        "\n",
        "    self.upsample8 = nn.UpsamplingNearest2d(scale_factor=2)\n",
        "    self.bnU8 = nn.BatchNorm2d(256)\n",
        "    self.reluU8 = nn.ReLU()\n",
        "\n",
        "    self.conv8 = nn.Conv2d(in_channels=256, out_channels=128, kernel_size=3, stride=1, padding=1)\n",
        "    self.bn8 = nn.BatchNorm2d(128)\n",
        "    self.relu8 = nn.ReLU()\n",
        "\n",
        "    self.conv9 = nn.Conv2d(in_channels=128, out_channels=64, kernel_size=3, stride=1, padding=1)\n",
        "    self.bn9 = nn.BatchNorm2d(64)\n",
        "    self.relu9 = nn.ReLU()\n",
        "\n",
        "    self.upsample10 = nn.UpsamplingNearest2d(scale_factor=2)\n",
        "    self.bnU10 = nn.BatchNorm2d(64)\n",
        "    self.reluU10 = nn.ReLU()\n",
        "\n",
        "    self.conv10 = nn.Conv2d(in_channels=64, out_channels=32, kernel_size=3, stride = 1, padding=1)\n",
        "    self.bn10 = nn.BatchNorm2d(32)\n",
        "    self.relu10 = nn.ReLU()\n",
        "\n",
        "    self.conv11 = nn.Conv2d(in_channels=32, out_channels=16, kernel_size=3, stride = 1, padding=1)\n",
        "    self.bn11 = nn.BatchNorm2d(16)\n",
        "    self.relu11 = nn.ReLU()\n",
        "\n",
        "    self.upsample12 = nn.UpsamplingNearest2d(scale_factor=2)\n",
        "    self.bnU12 = nn.BatchNorm2d(16)\n",
        "    self.reluU12 = nn.ReLU()\n",
        "\n",
        "    self.conv12 = nn.Conv2d(in_channels=16, out_channels=8, kernel_size=3, stride = 1, padding=1)\n",
        "    self.bn12 = nn.BatchNorm2d(8)\n",
        "    self.relu12 = nn.ReLU()\n",
        "\n",
        "    self.conv13 = nn.Conv2d(in_channels=8, out_channels=4, kernel_size=3, stride = 1, padding=1)\n",
        "    self.bn13 = nn.BatchNorm2d(4)\n",
        "    self.relu13 = nn.ReLU()\n",
        "\n",
        "    self.upsample14 = nn.UpsamplingNearest2d(scale_factor=2)\n",
        "    self.bnU14 = nn.BatchNorm2d(4)\n",
        "    self.reluU14 = nn.ReLU()\n",
        "\n",
        "    self.conv14 = nn.Conv2d(in_channels=4, out_channels=2, kernel_size=3, stride = 1, padding=1)\n",
        "    self.bn14 = nn.BatchNorm2d(2)\n",
        "    self.relu14 = nn.ReLU()\n",
        "\n",
        "    self.conv15 = nn.Conv2d(in_channels=2, out_channels=1, kernel_size=3, stride = 1, padding=1)\n",
        "    self.bn15 = nn.BatchNorm2d(1)\n",
        "    self.relu15 = nn.ReLU()\n",
        "\n",
        "    self.conv16 = nn.Conv2d(in_channels=1, out_channels=1, kernel_size=3, stride = 1, padding=1)\n",
        "    self.sigmoid16 = nn.Sigmoid()\n",
        "\n",
        "  def forward(self,x):\n",
        "    x = self.conv1(x)\n",
        "    x = self.bn1(x)\n",
        "    x = self.relu1(x)\n",
        "\n",
        "    x = self.conv2(x)\n",
        "    x = self.bn2(x)\n",
        "    x = self.relu2(x)\n",
        "\n",
        "    x = self.conv3(x)\n",
        "    x = self.bn3(x)\n",
        "    x = self.relu3(x)\n",
        "\n",
        "    x = self.conv4(x)\n",
        "    x = self.bn4(x)\n",
        "    x = self.relu4(x)\n",
        "\n",
        "    x = self.conv5(x)\n",
        "    x = self.bn5(x)\n",
        "    x = self.relu5(x)\n",
        "\n",
        "    x = self.conv6(x)\n",
        "    x = self.bn6(x)\n",
        "    x = self.relu6(x)\n",
        "\n",
        "    x = self.conv7(x)\n",
        "    x = self.bn7(x)\n",
        "    x = self.relu7(x)\n",
        "\n",
        "    x = self.upsample8(x)\n",
        "    x = self.bnU8(x)\n",
        "    x = self.reluU8(x)\n",
        "\n",
        "    x = self.conv8(x)\n",
        "    x = self.bn8(x)\n",
        "    x = self.relu8(x)\n",
        "\n",
        "    x = self.conv9(x)\n",
        "    x = self.bn9(x)\n",
        "    x = self.relu9(x)\n",
        "\n",
        "    x = self.upsample10(x)\n",
        "    x = self.bnU10(x)\n",
        "    x = self.reluU10(x)\n",
        "\n",
        "    x = self.conv10(x)\n",
        "    x = self.bn10(x)\n",
        "    x = self.relu10(x)\n",
        "\n",
        "    x = self.conv11(x)\n",
        "    x = self.bn11(x)\n",
        "    x = self.relu11(x)\n",
        "\n",
        "    x = self.upsample12(x)\n",
        "    x = self.bnU12(x)\n",
        "    x = self.reluU12(x)\n",
        "\n",
        "    x = self.conv12(x)\n",
        "    x = self.bn12(x)\n",
        "    x = self.relu12(x)\n",
        "\n",
        "    x = self.conv13(x)\n",
        "    x = self.bn13(x)\n",
        "    x = self.relu13(x)\n",
        "\n",
        "    x = self.upsample14(x)\n",
        "    x = self.bnU14(x)\n",
        "    x = self.reluU14(x)\n",
        "\n",
        "    x = self.conv14(x)\n",
        "    x = self.bn14(x)\n",
        "    x = self.relu14(x)\n",
        "\n",
        "    x = self.conv15(x)\n",
        "    x = self.bn15(x)\n",
        "    x = self.relu15(x)\n",
        "\n",
        "    x = self.conv16(x)\n",
        "    output_tensor = self.sigmoid16(x)\n",
        "    \n",
        "    return output_tensor\n",
        "\n",
        "model = ConvolutionalNeuralNet()"
      ],
      "metadata": {
        "id": "7In1dYmg868q"
      },
      "execution_count": null,
      "outputs": []
    },
    {
      "cell_type": "code",
      "source": [
        "device = torch.device(\"cuda:0\" if torch.cuda.is_available() else \"cpu\")\n",
        "model.to(\"cuda:0\")"
      ],
      "metadata": {
        "id": "enkjERdEfZSK"
      },
      "execution_count": null,
      "outputs": []
    },
    {
      "cell_type": "code",
      "source": [
        "criterion = nn.MSELoss()\n",
        "optimizer = optim.Adam(model.parameters(), lr=0.005)"
      ],
      "metadata": {
        "id": "5trIjKRFLXHK"
      },
      "execution_count": null,
      "outputs": []
    },
    {
      "cell_type": "code",
      "source": [
        "for epoch in tqdm(range(300)):\n",
        "  sleep(0.1)\n",
        "  running_loss = 0.0\n",
        "  for i, (x, y) in enumerate(trainloader):\n",
        "    x = x.to(device).float()\n",
        "    y = y.to(device).float()\n",
        "    y_pred = model(x)\n",
        "    loss = criterion(y, y_pred)\n",
        "    optimizer.zero_grad()\n",
        "    loss.backward()\n",
        "    optimizer.step()\n",
        "    \n",
        "\n",
        "    if i % 1000 == 999:\n",
        "      last_loss = running_loss / 1000 # loss per batch\n",
        "      print('  batch {} loss: {}'.format(i + 1, last_loss))\n",
        "    i+=1\n",
        "  x,y = next(iter(trainloader))\n",
        "  x = x.to(device).float()\n",
        "  y_pred = model(x)\n",
        "  save_image(y_pred, '/content/gdrive/MyDrive/CNN_task/ESB_pred_reduced_masking_LR/'+str(epoch)+'.png')"
      ],
      "metadata": {
        "id": "yDy0a_xuL4ti"
      },
      "execution_count": null,
      "outputs": []
    },
    {
      "cell_type": "code",
      "source": [
        "torch.save(model.state_dict(), '/content/gdrive/MyDrive/CNN_task/model_weight_reduced_masking_LR.pth')"
      ],
      "metadata": {
        "id": "EaleUKsnmwQu"
      },
      "execution_count": null,
      "outputs": []
    },
    {
      "cell_type": "markdown",
      "source": [
        "testing"
      ],
      "metadata": {
        "id": "ofCmaeNjABTn"
      }
    },
    {
      "cell_type": "code",
      "source": [
        "model = ConvolutionalNeuralNet().to(device)\n",
        "model.load_state_dict(torch.load('/content/gdrive/MyDrive/CNN_task/model_weight_reduced_masking_LR.pth'))"
      ],
      "metadata": {
        "colab": {
          "base_uri": "https://localhost:8080/"
        },
        "id": "FZ479EY6_z-A",
        "outputId": "acdc6268-5a4e-4ec6-ade1-d9055986bdb2"
      },
      "execution_count": null,
      "outputs": [
        {
          "output_type": "execute_result",
          "data": {
            "text/plain": [
              "<All keys matched successfully>"
            ]
          },
          "metadata": {},
          "execution_count": 26
        }
      ]
    },
    {
      "cell_type": "code",
      "source": [
        "with torch.no_grad():\n",
        "  for i,(x_test,y_test) in enumerate(valloader):\n",
        "    x_test=x_test.to(device).float()\n",
        "    y_test = y_test.to(device).float()\n",
        "    y_test_pred = model(x_test)\n",
        "    save_image(y_test_pred, '/content/gdrive/MyDrive/CNN_task/MCB_test_reduced_masking_LR/'+ str(i+1)+'.png')"
      ],
      "metadata": {
        "id": "TWHQxZ2kAMSB"
      },
      "execution_count": null,
      "outputs": []
    },
    {
      "cell_type": "code",
      "source": [],
      "metadata": {
        "id": "kMOsfNlyBfyQ"
      },
      "execution_count": null,
      "outputs": []
    }
  ]
}